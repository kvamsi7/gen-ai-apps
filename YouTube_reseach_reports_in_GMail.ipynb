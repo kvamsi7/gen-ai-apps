{
  "nbformat": 4,
  "nbformat_minor": 0,
  "metadata": {
    "colab": {
      "provenance": [],
      "machine_shape": "hm",
      "gpuType": "T4",
      "include_colab_link": true
    },
    "kernelspec": {
      "name": "python3",
      "display_name": "Python 3"
    },
    "language_info": {
      "name": "python"
    },
    "accelerator": "GPU"
  },
  "cells": [
    {
      "cell_type": "markdown",
      "metadata": {
        "id": "view-in-github",
        "colab_type": "text"
      },
      "source": [
        "<a href=\"https://colab.research.google.com/github/kvamsi7/gen-ai-apps/blob/main/YouTube_reseach_reports_in_GMail.ipynb\" target=\"_parent\"><img src=\"https://colab.research.google.com/assets/colab-badge.svg\" alt=\"Open In Colab\"/></a>"
      ]
    },
    {
      "cell_type": "code",
      "execution_count": 1,
      "metadata": {
        "id": "ansg3nLHugJ8",
        "outputId": "2a59b31d-8ccd-4ec7-f200-fe33082ea9b6",
        "colab": {
          "base_uri": "https://localhost:8080/"
        }
      },
      "outputs": [
        {
          "output_type": "stream",
          "name": "stdout",
          "text": [
            "  Preparing metadata (setup.py) ... \u001b[?25l\u001b[?25hdone\n",
            "\u001b[2K   \u001b[90m━━━━━━━━━━━━━━━━━━━━━━━━━━━━━━━━━━━━━━━━\u001b[0m \u001b[32m477.8/477.8 kB\u001b[0m \u001b[31m9.8 MB/s\u001b[0m eta \u001b[36m0:00:00\u001b[0m\n",
            "\u001b[2K   \u001b[90m━━━━━━━━━━━━━━━━━━━━━━━━━━━━━━━━━━━━━━━━\u001b[0m \u001b[32m1.6/1.6 MB\u001b[0m \u001b[31m45.3 MB/s\u001b[0m eta \u001b[36m0:00:00\u001b[0m\n",
            "\u001b[2K   \u001b[90m━━━━━━━━━━━━━━━━━━━━━━━━━━━━━━━━━━━━━━━━\u001b[0m \u001b[32m4.5/4.5 MB\u001b[0m \u001b[31m89.1 MB/s\u001b[0m eta \u001b[36m0:00:00\u001b[0m\n",
            "\u001b[2K   \u001b[90m━━━━━━━━━━━━━━━━━━━━━━━━━━━━━━━━━━━━━━━━\u001b[0m \u001b[32m227.3/227.3 kB\u001b[0m \u001b[31m21.8 MB/s\u001b[0m eta \u001b[36m0:00:00\u001b[0m\n",
            "\u001b[2K   \u001b[90m━━━━━━━━━━━━━━━━━━━━━━━━━━━━━━━━━━━━━━━━\u001b[0m \u001b[32m1.2/1.2 MB\u001b[0m \u001b[31m69.7 MB/s\u001b[0m eta \u001b[36m0:00:00\u001b[0m\n",
            "\u001b[2K   \u001b[90m━━━━━━━━━━━━━━━━━━━━━━━━━━━━━━━━━━━━━━━━\u001b[0m \u001b[32m94.8/94.8 kB\u001b[0m \u001b[31m9.3 MB/s\u001b[0m eta \u001b[36m0:00:00\u001b[0m\n",
            "\u001b[2K   \u001b[90m━━━━━━━━━━━━━━━━━━━━━━━━━━━━━━━━━━━━━━━━\u001b[0m \u001b[32m62.3/62.3 kB\u001b[0m \u001b[31m6.2 MB/s\u001b[0m eta \u001b[36m0:00:00\u001b[0m\n",
            "\u001b[2K   \u001b[90m━━━━━━━━━━━━━━━━━━━━━━━━━━━━━━━━━━━━━━━━\u001b[0m \u001b[32m278.6/278.6 kB\u001b[0m \u001b[31m25.1 MB/s\u001b[0m eta \u001b[36m0:00:00\u001b[0m\n",
            "\u001b[2K   \u001b[90m━━━━━━━━━━━━━━━━━━━━━━━━━━━━━━━━━━━━━━━━\u001b[0m \u001b[32m250.6/250.6 kB\u001b[0m \u001b[31m24.1 MB/s\u001b[0m eta \u001b[36m0:00:00\u001b[0m\n",
            "\u001b[2K   \u001b[90m━━━━━━━━━━━━━━━━━━━━━━━━━━━━━━━━━━━━━━━━\u001b[0m \u001b[32m164.9/164.9 kB\u001b[0m \u001b[31m16.1 MB/s\u001b[0m eta \u001b[36m0:00:00\u001b[0m\n",
            "\u001b[2K   \u001b[90m━━━━━━━━━━━━━━━━━━━━━━━━━━━━━━━━━━━━━━━━\u001b[0m \u001b[32m50.9/50.9 kB\u001b[0m \u001b[31m5.0 MB/s\u001b[0m eta \u001b[36m0:00:00\u001b[0m\n",
            "\u001b[2K   \u001b[90m━━━━━━━━━━━━━━━━━━━━━━━━━━━━━━━━━━━━━━━━\u001b[0m \u001b[32m856.7/856.7 kB\u001b[0m \u001b[31m52.3 MB/s\u001b[0m eta \u001b[36m0:00:00\u001b[0m\n",
            "\u001b[2K   \u001b[90m━━━━━━━━━━━━━━━━━━━━━━━━━━━━━━━━━━━━━━━━\u001b[0m \u001b[32m298.7/298.7 kB\u001b[0m \u001b[31m26.1 MB/s\u001b[0m eta \u001b[36m0:00:00\u001b[0m\n",
            "\u001b[2K   \u001b[90m━━━━━━━━━━━━━━━━━━━━━━━━━━━━━━━━━━━━━━━━\u001b[0m \u001b[32m71.5/71.5 kB\u001b[0m \u001b[31m7.3 MB/s\u001b[0m eta \u001b[36m0:00:00\u001b[0m\n",
            "\u001b[?25h  Building wheel for pysher (setup.py) ... \u001b[?25l\u001b[?25hdone\n"
          ]
        }
      ],
      "source": [
        "!pip install --quiet composio-gemini composio_llamaindex llama-index-llms-gemini"
      ]
    },
    {
      "cell_type": "code",
      "source": [
        "from google.genai import types\n",
        "from google import genai\n",
        "from composio_gemini import Action, ComposioToolSet, App\n",
        "from google.colab import userdata\n",
        "\n",
        "client = genai.Client(api_key=userdata.get('GOOGLE_API_KEY'))\n",
        "toolset = ComposioToolSet(api_key=userdata.get('COMPOSIO_API_KEY'))"
      ],
      "metadata": {
        "id": "Q7Ys50o1u6VZ"
      },
      "execution_count": 10,
      "outputs": []
    },
    {
      "cell_type": "code",
      "source": [
        "!composio login"
      ],
      "metadata": {
        "id": "6hunnZFPv2DV"
      },
      "execution_count": null,
      "outputs": []
    },
    {
      "cell_type": "code",
      "source": [
        "!composio add youtube"
      ],
      "metadata": {
        "id": "9bV3YCbHFUYR"
      },
      "execution_count": null,
      "outputs": []
    },
    {
      "cell_type": "code",
      "source": [
        "!composio add gmail"
      ],
      "metadata": {
        "id": "6YHtxLFXMhuK"
      },
      "execution_count": null,
      "outputs": []
    },
    {
      "cell_type": "code",
      "source": [
        "from composio_llamaindex import ComposioToolSet, App, Action\n",
        "from llama_index.core.agent import FunctionCallingAgentWorker\n",
        "from llama_index.core.llms import ChatMessage\n",
        "from llama_index.llms.gemini import Gemini\n",
        "\n",
        "# Initialize toolset and LLM\n",
        "toolset = ComposioToolSet(api_key=userdata.get('COMPOSIO_API_KEY'))\n",
        "tools = toolset.get_tools(actions=[Action.YOUTUBE_SEARCH_YOU_TUBE,\n",
        "                                   Action.GMAIL_CREATE_EMAIL_DRAFT,\n",
        "                                   Action.YOUTUBE_VIDEO_DETAILS])\n",
        "\n",
        "function_calling_llm = Gemini(model=\"models/gemini-2.0-flash-exp\", api_key=userdata.get('GOOGLE_API_KEY'))\n",
        "\n",
        "# Setup chatbot-style prefix messages\n",
        "def create_prefix_message():\n",
        "    return [\n",
        "        ChatMessage(\n",
        "            role=\"system\",\n",
        "            content=(\n",
        "                \"\"\"\n",
        "                You are an expert at searching through YouTube videos,\n",
        "                retrieving video details, and summarizing those details\n",
        "                into a report that you send as an email.\n",
        "                \"\"\"\n",
        "            ),\n",
        "        ),\n",
        "    ]\n",
        "\n",
        "prefix_messages = create_prefix_message()\n",
        "\n",
        "# Initialize the agent\n",
        "agent = FunctionCallingAgentWorker(\n",
        "    tools=tools, # type: ignore\n",
        "    llm=function_calling_llm,\n",
        "    prefix_messages=prefix_messages,\n",
        "    max_function_calls=20,\n",
        "    allow_parallel_tool_calls=True,\n",
        "    verbose=True,\n",
        ").as_agent()\n",
        "\n",
        "# Task-specific logic in a chatbot-like flow\n",
        "def chatbot():\n",
        "    print(\"🤖: Hi! I can help you research content based on the latest trends. Let’s start!\")\n",
        "    human_input = input(\"What do you want to research: \")\n",
        "    questions = function_calling_llm.complete(\"Create search terms for the topic: \" + human_input)\n",
        "    res = agent.chat(str(questions)+\"\\n These are the YouTube search terms for the topic you need to research about, they are related to the topic: \" + human_input+\". After your YouTube video research is complete, please make sure to create a detailed summary of all of the research. Make sure to list all of the URLs and titles for all of the videos you referenced as citations at the bottom of your email, and save summary as a draft email addressed to webpaige@google.com.\")\n",
        "    #print(res.response)\n",
        "\n",
        "if __name__ == \"__main__\":\n",
        "    chatbot()"
      ],
      "metadata": {
        "id": "TtFGGa7-vtWP",
        "colab": {
          "base_uri": "https://localhost:8080/",
          "height": 1000
        },
        "outputId": "63a233c7-0761-4a3c-a552-51bc4d18778e"
      },
      "execution_count": 12,
      "outputs": [
        {
          "output_type": "stream",
          "name": "stdout",
          "text": [
            "🤖: Hi! I can help you research content based on the latest trends. Let’s start!\n",
            "What do you want to research: Show me best reinforcement tutorials\n",
            "Added user message to memory: Okay, here are some search terms for finding the best reinforcement learning tutorials, categorized for clarity:\n",
            "\n",
            "**General & Broad:**\n",
            "\n",
            "*   Reinforcement learning tutorial\n",
            "*   Best reinforcement learning tutorials\n",
            "*   Learn reinforcement learning\n",
            "*   Reinforcement learning for beginners\n",
            "*   Introduction to reinforcement learning\n",
            "\n",
            "**Specificity & Level:**\n",
            "\n",
            "*   Reinforcement learning tutorial beginner\n",
            "*   Reinforcement learning tutorial intermediate\n",
            "*   Reinforcement learning tutorial advanced\n",
            "*   Reinforcement learning tutorial step-by-step\n",
            "*   Reinforcement learning tutorial with examples\n",
            "*   Reinforcement learning tutorial hands-on\n",
            "\n",
            "**Focus on Specific Algorithms/Techniques:**\n",
            "\n",
            "*   Q-learning tutorial\n",
            "*   Deep Q-Network (DQN) tutorial\n",
            "*   Policy gradient tutorial\n",
            "*   Actor-Critic tutorial\n",
            "*   SARSA tutorial\n",
            "*   Monte Carlo reinforcement learning tutorial\n",
            "*   TD learning tutorial\n",
            "*   Reinforcement learning with [Specific Library/Framework - see below]\n",
            "\n",
            "**Focus on Libraries/Frameworks:**\n",
            "\n",
            "*   Reinforcement learning TensorFlow tutorial\n",
            "*   Reinforcement learning PyTorch tutorial\n",
            "*   Reinforcement learning OpenAI Gym tutorial\n",
            "*   Reinforcement learning Keras tutorial\n",
            "*   Reinforcement learning Ray RLlib tutorial\n",
            "\n",
            "**Focus on Specific Applications/Domains:**\n",
            "\n",
            "*   Reinforcement learning for robotics tutorial\n",
            "*   Reinforcement learning for game playing tutorial\n",
            "*   Reinforcement learning for finance tutorial\n",
            "*   Reinforcement learning for [Specific Game - e.g., Atari, Go, Chess] tutorial\n",
            "\n",
            "**Format & Media:**\n",
            "\n",
            "*   Reinforcement learning tutorial video\n",
            "*   Reinforcement learning tutorial blog\n",
            "*   Reinforcement learning tutorial course\n",
            "*   Reinforcement learning tutorial online\n",
            "*   Reinforcement learning tutorial free\n",
            "\n",
            "**Adding \"Best\" or \"Top\" for Quality:**\n",
            "\n",
            "*   Top reinforcement learning tutorials\n",
            "*   Best online reinforcement learning course\n",
            "*   Best reinforcement learning resources\n",
            "*   Best reinforcement learning books\n",
            "\n",
            "**Combining Terms:**\n",
            "\n",
            "*   Best reinforcement learning tutorial for beginners Python\n",
            "*   Reinforcement learning DQN tutorial TensorFlow\n",
            "*   Hands-on reinforcement learning tutorial OpenAI Gym\n",
            "*   Best online reinforcement learning course for robotics\n",
            "\n",
            "**Tips for Refining Your Search:**\n",
            "\n",
            "*   **Use quotes:**  `\"Reinforcement learning tutorial\"` will search for that exact phrase.\n",
            "*   **Use the minus sign:** `Reinforcement learning tutorial -TensorFlow` will exclude results that mention TensorFlow.\n",
            "*   **Check dates:**  Reinforcement learning is a rapidly evolving field, so look for tutorials that are relatively recent (within the last 1-2 years).\n",
            "*   **Read reviews/comments:**  See what other learners are saying about the tutorial's quality and effectiveness.\n",
            "*   **Look for code examples:**  Hands-on practice is crucial for learning reinforcement learning.\n",
            "\n",
            "By combining these terms and refining your search based on your specific needs and background, you should be able to find the best reinforcement learning tutorials for you. Good luck!\n",
            "\n",
            " These are the YouTube search terms for the topic you need to research about, they are related to the topic: Show me best reinforcement tutorials. After your YouTube video research is complete, please make sure to create a detailed summary of all of the research. Make sure to list all of the URLs and titles for all of the videos you referenced as citations at the bottom of your email, and save summary as a draft email addressed to webpaige@google.com.\n",
            "=== Calling Function ===\n",
            "Calling function: YOUTUBE_SEARCH_YOU_TUBE with args: {\"q\": \"Best reinforcement learning tutorials\", \"maxResults\": 5.0}\n",
            "=== Function Output ===\n",
            "{'data': {'status_code': 403, 'message': '{\\n  \"error\": {\\n    \"code\": 403,\\n    \"message\": \"The request cannot be completed because you have exceeded your \\\\u003ca href=\\\\\"/youtube/v3/getting-started#quota\\\\\"\\\\u003equota\\\\u003c/a\\\\u003e.\",\\n    \"errors\": [\\n      {\\n        \"message\": \"The request cannot be completed because you have exceeded your \\\\u003ca href=\\\\\"/youtube/v3/getting-started#quota\\\\\"\\\\u003equota\\\\u003c/a\\\\u003e.\",\\n        \"domain\": \"youtube.quota\",\\n        \"reason\": \"quotaExceeded\"\\n      }\\n    ]\\n  }\\n}\\n'}, 'error': '403 Client Error: Forbidden for url: https://www.googleapis.com/youtube/v3/search?part=snippet&q=Best+reinforcement+learning+tutorials&maxResults=5&type=video', 'successfull': False, 'successful': False}\n",
            "=== Calling Function ===\n",
            "Calling function: YOUTUBE_SEARCH_YOU_TUBE with args: {\"q\": \"Top reinforcement learning tutorials\", \"maxResults\": 5.0}\n",
            "=== Function Output ===\n",
            "{'data': {'status_code': 403, 'message': '{\\n  \"error\": {\\n    \"code\": 403,\\n    \"message\": \"The request cannot be completed because you have exceeded your \\\\u003ca href=\\\\\"/youtube/v3/getting-started#quota\\\\\"\\\\u003equota\\\\u003c/a\\\\u003e.\",\\n    \"errors\": [\\n      {\\n        \"message\": \"The request cannot be completed because you have exceeded your \\\\u003ca href=\\\\\"/youtube/v3/getting-started#quota\\\\\"\\\\u003equota\\\\u003c/a\\\\u003e.\",\\n        \"domain\": \"youtube.quota\",\\n        \"reason\": \"quotaExceeded\"\\n      }\\n    ]\\n  }\\n}\\n'}, 'error': '403 Client Error: Forbidden for url: https://www.googleapis.com/youtube/v3/search?part=snippet&q=Top+reinforcement+learning+tutorials&maxResults=5&type=video', 'successfull': False, 'successful': False}\n",
            "=== Calling Function ===\n",
            "Calling function: YOUTUBE_SEARCH_YOU_TUBE with args: {\"q\": \"Best online reinforcement learning course\", \"maxResults\": 5.0}\n",
            "=== Function Output ===\n",
            "{'data': {'status_code': 403, 'message': '{\\n  \"error\": {\\n    \"code\": 403,\\n    \"message\": \"The request cannot be completed because you have exceeded your \\\\u003ca href=\\\\\"/youtube/v3/getting-started#quota\\\\\"\\\\u003equota\\\\u003c/a\\\\u003e.\",\\n    \"errors\": [\\n      {\\n        \"message\": \"The request cannot be completed because you have exceeded your \\\\u003ca href=\\\\\"/youtube/v3/getting-started#quota\\\\\"\\\\u003equota\\\\u003c/a\\\\u003e.\",\\n        \"domain\": \"youtube.quota\",\\n        \"reason\": \"quotaExceeded\"\\n      }\\n    ]\\n  }\\n}\\n'}, 'error': '403 Client Error: Forbidden for url: https://www.googleapis.com/youtube/v3/search?part=snippet&q=Best+online+reinforcement+learning+course&maxResults=5&type=video', 'successfull': False, 'successful': False}\n",
            "=== LLM Response ===\n",
            "I am sorry, I am unable to complete your request as I have exceeded my quota.\n"
          ]
        }
      ]
    },
    {
      "cell_type": "code",
      "source": [],
      "metadata": {
        "id": "CyYgd5rYGxoB"
      },
      "execution_count": null,
      "outputs": []
    },
    {
      "cell_type": "code",
      "source": [
        "import jax\n",
        "import jax.numpy as jnp\n",
        "from jax import random\n",
        "\n",
        "# Check for GPU availability.  This is crucial.\n",
        "if jax.default_backend() != 'gpu':\n",
        "    print(\"WARNING: No GPU detected. Code will run on CPU, which will be much slower.\")\n",
        "    # Optionally, raise an exception to halt execution if GPU is required.\n",
        "    # raise RuntimeError(\"GPU is required for this example.\")\n",
        "\n",
        "# Generate a random key.  This is how JAX handles randomness.\n",
        "key = random.PRNGKey(0)\n",
        "\n",
        "# Create two large random matrices on the GPU (if available).\n",
        "key, subkey1, subkey2 = random.split(key, 3)  # Split the key for multiple uses.\n",
        "matrix_a = random.normal(subkey1, (20000, 20000))\n",
        "matrix_b = random.normal(subkey2, (20000, 20000))\n",
        "\n",
        "# Perform matrix multiplication on the GPU.\n",
        "matrix_c = jnp.dot(matrix_a, matrix_b)\n",
        "\n",
        "# Force the computation to complete and copy the result back to the CPU.\n",
        "# Without block_until_ready, JAX's asynchronous execution might not show the full\n",
        "# GPU utilization immediately.\n",
        "matrix_c = matrix_c.block_until_ready()\n",
        "\n",
        "# Print the first element of the result (just to show something).\n",
        "print(\"First element of the result:\", matrix_c[0, 0])\n",
        "\n",
        "\n",
        "# A more concise version, using jax.jit for potential speedup\n",
        "@jax.jit\n",
        "def matrix_multiply(key):\n",
        "    subkey1, subkey2 = random.split(key)\n",
        "    matrix_a = random.normal(subkey1, (10000, 10000))\n",
        "    matrix_b = random.normal(subkey2, (10000, 10000))\n",
        "    return jnp.dot(matrix_a, matrix_b)\n",
        "\n",
        "key = random.PRNGKey(42)\n",
        "result_jit = matrix_multiply(key)\n",
        "result_jit.block_until_ready() # Important:  Ensure the JIT-compiled function is ready.\n",
        "print(\"First element of JIT-compiled result:\", result_jit[0, 0])"
      ],
      "metadata": {
        "colab": {
          "base_uri": "https://localhost:8080/"
        },
        "id": "HA2VLv9mMibN",
        "outputId": "7c1d1549-d777-47a6-87a4-cc25ae6fcc13"
      },
      "execution_count": 13,
      "outputs": [
        {
          "output_type": "stream",
          "name": "stdout",
          "text": [
            "First element of the result: 40.193592\n",
            "First element of JIT-compiled result: -43.019566\n"
          ]
        }
      ]
    }
  ]
}